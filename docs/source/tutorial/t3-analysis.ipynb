{
 "cells": [
  {
   "attachments": {},
   "cell_type": "markdown",
   "metadata": {},
   "source": [
    "# SarcGraphTools - Analysis\n",
    "\n",
    "All demos are availble on GitHub at https://github.com/Sarc-Graph/sarcgraph/tree/main/tutorials.\n",
    "\n",
    "To run demos with `jupyter notebook` check [Installation Guide](https://sarc-graph.readthedocs.io/en/latest/installation.html).\n",
    "\n",
    "SarcGraph includes the tools which enable the recovery of basic sarcomere characteristics and the ability to run further high level analysis.\n",
    "\n",
    "In this notebook we provide a tutorial on how to use the SarcGraph package using demos and examples. The focus is on the ``SarcGraphTools.Analysis`` class in the ``sg_tools`` module."
   ]
  },
  {
   "attachments": {},
   "cell_type": "markdown",
   "metadata": {},
   "source": [
    "## Initialization"
   ]
  },
  {
   "attachments": {},
   "cell_type": "markdown",
   "metadata": {},
   "source": [
    "Methods in the ``SarcGraphTools`` class need the information that will be saved by running ``SarcGraph.sarcomere_detection()``.\n",
    "\n",
    "To showcase this we use ``samples/sample_1.avi``."
   ]
  },
  {
   "cell_type": "code",
   "execution_count": 1,
   "metadata": {},
   "outputs": [
    {
     "name": "stdout",
     "output_type": "stream",
     "text": [
      "Frame 79: 91 trajectories present.\n"
     ]
    },
    {
     "data": {
      "text/html": [
       "<div>\n",
       "<style scoped>\n",
       "    .dataframe tbody tr th:only-of-type {\n",
       "        vertical-align: middle;\n",
       "    }\n",
       "\n",
       "    .dataframe tbody tr th {\n",
       "        vertical-align: top;\n",
       "    }\n",
       "\n",
       "    .dataframe thead th {\n",
       "        text-align: right;\n",
       "    }\n",
       "</style>\n",
       "<table border=\"1\" class=\"dataframe\">\n",
       "  <thead>\n",
       "    <tr style=\"text-align: right;\">\n",
       "      <th></th>\n",
       "      <th>frame</th>\n",
       "      <th>sarc_id</th>\n",
       "      <th>x</th>\n",
       "      <th>y</th>\n",
       "      <th>length</th>\n",
       "      <th>width</th>\n",
       "      <th>angle</th>\n",
       "      <th>zdiscs</th>\n",
       "    </tr>\n",
       "  </thead>\n",
       "  <tbody>\n",
       "    <tr>\n",
       "      <th>4996</th>\n",
       "      <td>36</td>\n",
       "      <td>62</td>\n",
       "      <td>259.641090</td>\n",
       "      <td>159.729402</td>\n",
       "      <td>14.805879</td>\n",
       "      <td>9.987089</td>\n",
       "      <td>1.713409</td>\n",
       "      <td>36,38</td>\n",
       "    </tr>\n",
       "    <tr>\n",
       "      <th>1243</th>\n",
       "      <td>43</td>\n",
       "      <td>15</td>\n",
       "      <td>87.370502</td>\n",
       "      <td>127.381305</td>\n",
       "      <td>25.125737</td>\n",
       "      <td>24.089347</td>\n",
       "      <td>2.071055</td>\n",
       "      <td>-30,-28</td>\n",
       "    </tr>\n",
       "    <tr>\n",
       "      <th>970</th>\n",
       "      <td>10</td>\n",
       "      <td>12</td>\n",
       "      <td>71.334448</td>\n",
       "      <td>280.178625</td>\n",
       "      <td>26.141463</td>\n",
       "      <td>27.060158</td>\n",
       "      <td>1.300676</td>\n",
       "      <td>-33,-32</td>\n",
       "    </tr>\n",
       "    <tr>\n",
       "      <th>5788</th>\n",
       "      <td>28</td>\n",
       "      <td>72</td>\n",
       "      <td>134.699595</td>\n",
       "      <td>130.015240</td>\n",
       "      <td>14.941399</td>\n",
       "      <td>9.308028</td>\n",
       "      <td>3.135721</td>\n",
       "      <td>52,76</td>\n",
       "    </tr>\n",
       "    <tr>\n",
       "      <th>5289</th>\n",
       "      <td>9</td>\n",
       "      <td>66</td>\n",
       "      <td>202.904344</td>\n",
       "      <td>152.429252</td>\n",
       "      <td>11.341403</td>\n",
       "      <td>8.952443</td>\n",
       "      <td>1.150214</td>\n",
       "      <td>44,71</td>\n",
       "    </tr>\n",
       "  </tbody>\n",
       "</table>\n",
       "</div>"
      ],
      "text/plain": [
       "      frame  sarc_id           x           y     length      width     angle  \\\n",
       "4996     36       62  259.641090  159.729402  14.805879   9.987089  1.713409   \n",
       "1243     43       15   87.370502  127.381305  25.125737  24.089347  2.071055   \n",
       "970      10       12   71.334448  280.178625  26.141463  27.060158  1.300676   \n",
       "5788     28       72  134.699595  130.015240  14.941399   9.308028  3.135721   \n",
       "5289      9       66  202.904344  152.429252  11.341403   8.952443  1.150214   \n",
       "\n",
       "       zdiscs  \n",
       "4996    36,38  \n",
       "1243  -30,-28  \n",
       "970   -33,-32  \n",
       "5788    52,76  \n",
       "5289    44,71  "
      ]
     },
     "execution_count": 1,
     "metadata": {},
     "output_type": "execute_result"
    }
   ],
   "source": [
    "import numpy as np\n",
    "import matplotlib.pyplot as plt\n",
    "import pandas as pd\n",
    "\n",
    "from sarcgraph.sg import SarcGraph\n",
    "\n",
    "sg = SarcGraph(output_dir='../tutorial-results', file_type='video')\n",
    "sarcomeres, _ = sg.sarcomere_detection(file_path='../samples/sample_1.avi')\n",
    "\n",
    "sarcomeres.sample(5)"
   ]
  },
  {
   "attachments": {},
   "cell_type": "markdown",
   "metadata": {},
   "source": [
    "By default ``save_output=True`` in ``sg.sarcomere_detection()`` and the following information will be saved in ``../tutorial-results``:\n",
    "\n",
    "- raw video frames (grayscale)\n",
    "- filtered video frames\n",
    "- zdisc contours\n",
    "- segmented zdiscs information\n",
    "- tracked zdiscs information\n",
    "- detected sarcomeres information"
   ]
  },
  {
   "attachments": {},
   "cell_type": "markdown",
   "metadata": {},
   "source": [
    "The next step is to run ``SarcGraphTools.TimeSeries()`` to apply GPR on timeseries data related to each sarcomere."
   ]
  },
  {
   "cell_type": "code",
   "execution_count": 2,
   "metadata": {},
   "outputs": [],
   "source": [
    "from sarcgraph.sg_tools import SarcGraphTools\n",
    "\n",
    "sg_tools = SarcGraphTools(input_dir='../tutorial-results')\n",
    "_ = sg_tools.time_series.sarcomeres_gpr()"
   ]
  },
  {
   "attachments": {},
   "cell_type": "markdown",
   "metadata": {},
   "source": [
    "This step is used for noise reduction as well as interpolating missing values of the timeseries (``x_position``, ``y_position``, ``length``, ``width``, ``angle``, ``length_normalized``)."
   ]
  },
  {
   "attachments": {},
   "cell_type": "markdown",
   "metadata": {},
   "source": [
    "## Characterization Analysis"
   ]
  },
  {
   "attachments": {},
   "cell_type": "markdown",
   "metadata": {},
   "source": [
    "Here is a list of available functions in the ``SarcGraphTools.Analysis`` class:\n",
    "\n",
    "- ``compute_F_J()``: Computes the average deformation gradient (F) and its jacobian (J) for the whole movie\n",
    "\n",
    "- ``compute_OOP()``: Computes Orientation Order Parameter (OOP) for the whole movie\n",
    "\n",
    "- ``compute_metrics()``: Computes (`OOP`, `C_iso`, `C_OOP`, `s_til`, `s_avg`) as defined in the [SarcGraph paper](https://journals.plos.org/ploscompbiol/article?id=10.1371/journal.pcbi.1009443)\n",
    "\n",
    "- ``compute_ts_params()``: Computes (`contraction time`, `relaxation time`, `flat time`, `period`, `offset`, etc.) for timeseries\n",
    "\n",
    "- ``create_spatial_graph()``: Generates a spatial graph of tracked z-discs where edges indicate sarcomeres and edge weights indicate the ratio of the frames in which each sarcomere is detected\n",
    "\n",
    "**Note**\n",
    "\n",
    "Check the api reference for [SarcGraphTools](https://sarc-graph.readthedocs.io/en/latest/reference/sg_tools.html)\n",
    "\n",
    "<a id='analysis-functions'></a>"
   ]
  },
  {
   "attachments": {},
   "cell_type": "markdown",
   "metadata": {},
   "source": [
    "To run these functions, create an instance of the ``SarcGraphTools`` class and set the ``input_dir`` to the directory used previously to save the output of sarcomere detection (in this case ``input_dir='../tutorial-results'``)"
   ]
  },
  {
   "cell_type": "code",
   "execution_count": 3,
   "metadata": {},
   "outputs": [],
   "source": [
    "from sarcgraph.sg_tools import SarcGraphTools\n",
    "\n",
    "sg_tools = SarcGraphTools(input_dir='../tutorial-results')"
   ]
  },
  {
   "attachments": {},
   "cell_type": "markdown",
   "metadata": {},
   "source": [
    "Now, any of the functions listed [above](#analysis-functions) can be executed. For examples, run the following for ``F`` and ``J`` computation:"
   ]
  },
  {
   "cell_type": "code",
   "execution_count": 4,
   "metadata": {},
   "outputs": [],
   "source": [
    "F, J = sg_tools.analysis.compute_F_J()"
   ]
  },
  {
   "attachments": {},
   "cell_type": "markdown",
   "metadata": {},
   "source": [
    "This also saves ``F`` and ``J`` in the specified input directory ``input_dir`` if ``save_results=True`` in ``SarcGraphTools``"
   ]
  },
  {
   "attachments": {},
   "cell_type": "markdown",
   "metadata": {},
   "source": [
    "Run the rest of the function:"
   ]
  },
  {
   "cell_type": "code",
   "execution_count": 5,
   "metadata": {},
   "outputs": [],
   "source": [
    "OOP, OOP_vec = sg_tools.analysis.compute_OOP()"
   ]
  },
  {
   "cell_type": "code",
   "execution_count": 6,
   "metadata": {},
   "outputs": [],
   "source": [
    "metrics = sg_tools.analysis.compute_metrics()"
   ]
  },
  {
   "cell_type": "code",
   "execution_count": 7,
   "metadata": {},
   "outputs": [],
   "source": [
    "ts_params = sg_tools.analysis.compute_ts_params()"
   ]
  },
  {
   "attachments": {},
   "cell_type": "markdown",
   "metadata": {},
   "source": [
    "**Note**\n",
    "\n",
    "``create_spatial_graph()`` needs access to the original video/image file ``file_path`` or a dataframe that contains information of detected and tracked z-discs ``tracked_zdiscs``. So, below we show two ways to run this functions:"
   ]
  },
  {
   "attachments": {},
   "cell_type": "markdown",
   "metadata": {},
   "source": [
    "1. Specifying ``file_path``"
   ]
  },
  {
   "cell_type": "code",
   "execution_count": 8,
   "metadata": {},
   "outputs": [
    {
     "name": "stdout",
     "output_type": "stream",
     "text": [
      "Frame 79: 91 trajectories present.\n"
     ]
    }
   ],
   "source": [
    "sg_tools.analysis.create_spatial_graph(file_path='../samples/sample_1.avi')"
   ]
  },
  {
   "attachments": {},
   "cell_type": "markdown",
   "metadata": {},
   "source": [
    "2. Specifying ``tracked_zidscs``"
   ]
  },
  {
   "cell_type": "code",
   "execution_count": 9,
   "metadata": {},
   "outputs": [],
   "source": [
    "# loading saved tracked_zidscs from 'tutorial-results' folder\n",
    "import pandas as pd\n",
    "\n",
    "tracked_zdiscs = pd.read_csv(\n",
    "    f\"{sg_tools.input_dir}/tracked-zdiscs.csv\", index_col=[0]\n",
    ")\n",
    "\n",
    "sg_tools.analysis.create_spatial_graph(tracked_zdiscs=tracked_zdiscs)"
   ]
  },
  {
   "attachments": {},
   "cell_type": "markdown",
   "metadata": {},
   "source": [
    "After running all functions the following files will be added to ``input_dir``:\n",
    "\n",
    "- ``recovered_F.npy``\n",
    "- ``recovered_J.npy``\n",
    "- ``recovered_OOP.npy``\n",
    "- ``recovered_OOP_vector.npy``\n",
    "- ``recovered_metrics.json``\n",
    "- ``spatial-graph.pkl``\n",
    "- ``spatial-graph-pos.pkl``\n",
    "- ``time_series_params.csv``"
   ]
  }
 ],
 "metadata": {
  "kernelspec": {
   "display_name": "sarcgraph",
   "language": "python",
   "name": "python3"
  },
  "language_info": {
   "codemirror_mode": {
    "name": "ipython",
    "version": 3
   },
   "file_extension": ".py",
   "mimetype": "text/x-python",
   "name": "python",
   "nbconvert_exporter": "python",
   "pygments_lexer": "ipython3",
   "version": "3.10.9"
  },
  "orig_nbformat": 4,
  "vscode": {
   "interpreter": {
    "hash": "b2a71ccf8dc7e9365df88357c42126febea37766cb20baf69bfbc0fd758e207a"
   }
  }
 },
 "nbformat": 4,
 "nbformat_minor": 2
}
